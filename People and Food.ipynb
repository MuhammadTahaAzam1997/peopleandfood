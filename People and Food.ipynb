{
 "cells": [
  {
   "cell_type": "markdown",
   "metadata": {},
   "source": [
    "# Data Exploration\n",
    "First, we will start by loading the data into a Pandas dataframe and taking a look at the first few rows."
   ]
  },
  {
   "cell_type": "code",
   "execution_count": 18,
   "metadata": {},
   "outputs": [
    {
     "data": {
      "text/html": [
       "<div>\n",
       "<style scoped>\n",
       "    .dataframe tbody tr th:only-of-type {\n",
       "        vertical-align: middle;\n",
       "    }\n",
       "\n",
       "    .dataframe tbody tr th {\n",
       "        vertical-align: top;\n",
       "    }\n",
       "\n",
       "    .dataframe thead th {\n",
       "        text-align: right;\n",
       "    }\n",
       "</style>\n",
       "<table border=\"1\" class=\"dataframe\">\n",
       "  <thead>\n",
       "    <tr style=\"text-align: right;\">\n",
       "      <th></th>\n",
       "      <th>_unit_id</th>\n",
       "      <th>_unit_state</th>\n",
       "      <th>_trusted_judgments</th>\n",
       "      <th>_last_judgment_at</th>\n",
       "      <th>if__people_are_eating_the_cake_please_choose_their_gender_</th>\n",
       "      <th>if__people_are_eating_the_cake_please_choose_their_gender_:confidence</th>\n",
       "      <th>if_people_are_eating_the_cake_please_choose_their_age_</th>\n",
       "      <th>if_people_are_eating_the_cake_please_choose_their_age_:confidence</th>\n",
       "      <th>who_is_eating_or_is_likely_to_eat_the_cake</th>\n",
       "      <th>who_is_eating_or_is_likely_to_eat_the_cake:confidence</th>\n",
       "      <th>image_url</th>\n",
       "    </tr>\n",
       "  </thead>\n",
       "  <tbody>\n",
       "    <tr>\n",
       "      <th>0</th>\n",
       "      <td>685655207</td>\n",
       "      <td>finalized</td>\n",
       "      <td>3</td>\n",
       "      <td>3/6/15 13:33</td>\n",
       "      <td>Female</td>\n",
       "      <td>1.0</td>\n",
       "      <td>Adult/Teenager (13 or older)</td>\n",
       "      <td>1.0</td>\n",
       "      <td>Person</td>\n",
       "      <td>1.0000</td>\n",
       "      <td>http://media1.onsugar.com/files/2012/02/07/2/1...</td>\n",
       "    </tr>\n",
       "    <tr>\n",
       "      <th>1</th>\n",
       "      <td>685655208</td>\n",
       "      <td>finalized</td>\n",
       "      <td>3</td>\n",
       "      <td>3/6/15 13:38</td>\n",
       "      <td>Female</td>\n",
       "      <td>1.0</td>\n",
       "      <td>Adult/Teenager (13 or older)</td>\n",
       "      <td>1.0</td>\n",
       "      <td>Person</td>\n",
       "      <td>1.0000</td>\n",
       "      <td>http://www.skirtcollective.com/wp-content/uplo...</td>\n",
       "    </tr>\n",
       "    <tr>\n",
       "      <th>2</th>\n",
       "      <td>685655209</td>\n",
       "      <td>finalized</td>\n",
       "      <td>3</td>\n",
       "      <td>3/6/15 13:32</td>\n",
       "      <td>Female</td>\n",
       "      <td>1.0</td>\n",
       "      <td>Adult/Teenager (13 or older)</td>\n",
       "      <td>1.0</td>\n",
       "      <td>Person</td>\n",
       "      <td>1.0000</td>\n",
       "      <td>http://www.innovativeinsightsllc.com/wp-conten...</td>\n",
       "    </tr>\n",
       "    <tr>\n",
       "      <th>3</th>\n",
       "      <td>685655210</td>\n",
       "      <td>finalized</td>\n",
       "      <td>3</td>\n",
       "      <td>3/6/15 13:34</td>\n",
       "      <td>Female</td>\n",
       "      <td>1.0</td>\n",
       "      <td>Adult/Teenager (13 or older)</td>\n",
       "      <td>1.0</td>\n",
       "      <td>Person</td>\n",
       "      <td>1.0000</td>\n",
       "      <td>http://www.moreyspiers.com/memoreys/wp-content...</td>\n",
       "    </tr>\n",
       "    <tr>\n",
       "      <th>4</th>\n",
       "      <td>685655211</td>\n",
       "      <td>finalized</td>\n",
       "      <td>3</td>\n",
       "      <td>3/6/15 13:31</td>\n",
       "      <td>Male</td>\n",
       "      <td>1.0</td>\n",
       "      <td>Kid (younger than 13)</td>\n",
       "      <td>1.0</td>\n",
       "      <td>Person</td>\n",
       "      <td>0.6846</td>\n",
       "      <td>https://theplaidguy.files.wordpress.com/2012/0...</td>\n",
       "    </tr>\n",
       "  </tbody>\n",
       "</table>\n",
       "</div>"
      ],
      "text/plain": [
       "    _unit_id _unit_state  _trusted_judgments _last_judgment_at  \\\n",
       "0  685655207   finalized                   3      3/6/15 13:33   \n",
       "1  685655208   finalized                   3      3/6/15 13:38   \n",
       "2  685655209   finalized                   3      3/6/15 13:32   \n",
       "3  685655210   finalized                   3      3/6/15 13:34   \n",
       "4  685655211   finalized                   3      3/6/15 13:31   \n",
       "\n",
       "  if__people_are_eating_the_cake_please_choose_their_gender_  \\\n",
       "0                                             Female           \n",
       "1                                             Female           \n",
       "2                                             Female           \n",
       "3                                             Female           \n",
       "4                                               Male           \n",
       "\n",
       "   if__people_are_eating_the_cake_please_choose_their_gender_:confidence  \\\n",
       "0                                                1.0                       \n",
       "1                                                1.0                       \n",
       "2                                                1.0                       \n",
       "3                                                1.0                       \n",
       "4                                                1.0                       \n",
       "\n",
       "  if_people_are_eating_the_cake_please_choose_their_age_  \\\n",
       "0                       Adult/Teenager (13 or older)       \n",
       "1                       Adult/Teenager (13 or older)       \n",
       "2                       Adult/Teenager (13 or older)       \n",
       "3                       Adult/Teenager (13 or older)       \n",
       "4                              Kid (younger than 13)       \n",
       "\n",
       "   if_people_are_eating_the_cake_please_choose_their_age_:confidence  \\\n",
       "0                                                1.0                   \n",
       "1                                                1.0                   \n",
       "2                                                1.0                   \n",
       "3                                                1.0                   \n",
       "4                                                1.0                   \n",
       "\n",
       "  who_is_eating_or_is_likely_to_eat_the_cake  \\\n",
       "0                                     Person   \n",
       "1                                     Person   \n",
       "2                                     Person   \n",
       "3                                     Person   \n",
       "4                                     Person   \n",
       "\n",
       "   who_is_eating_or_is_likely_to_eat_the_cake:confidence  \\\n",
       "0                                             1.0000       \n",
       "1                                             1.0000       \n",
       "2                                             1.0000       \n",
       "3                                             1.0000       \n",
       "4                                             0.6846       \n",
       "\n",
       "                                           image_url  \n",
       "0  http://media1.onsugar.com/files/2012/02/07/2/1...  \n",
       "1  http://www.skirtcollective.com/wp-content/uplo...  \n",
       "2  http://www.innovativeinsightsllc.com/wp-conten...  \n",
       "3  http://www.moreyspiers.com/memoreys/wp-content...  \n",
       "4  https://theplaidguy.files.wordpress.com/2012/0...  "
      ]
     },
     "execution_count": 18,
     "metadata": {},
     "output_type": "execute_result"
    }
   ],
   "source": [
    "import pandas as pd\n",
    "import matplotlib as plt\n",
    "\n",
    "\n",
    "\n",
    "\n",
    "df = pd.read_csv('people.csv')\n",
    "df.head()\n"
   ]
  },
  {
   "cell_type": "markdown",
   "metadata": {},
   "source": [
    "The data contains several columns, including the image URL, the gender of the person eating the food, their age, and the confidence of the classifiers for each attribute."
   ]
  },
  {
   "cell_type": "markdown",
   "metadata": {},
   "source": [
    "# Exploratory Data Analysis\n",
    "Now that we have loaded our data into the dataframe, we can start exploring the data to gain insights and discover any patterns or trends.\n",
    "\n",
    "Let's start by checking the dimensions of our dataframe."
   ]
  },
  {
   "cell_type": "code",
   "execution_count": 15,
   "metadata": {},
   "outputs": [
    {
     "data": {
      "text/plain": [
       "_unit_id                                                                  0\n",
       "_unit_state                                                               0\n",
       "_trusted_judgments                                                        0\n",
       "_last_judgment_at                                                         0\n",
       "if__people_are_eating_the_cake_please_choose_their_gender_               48\n",
       "if__people_are_eating_the_cake_please_choose_their_gender_:confidence    48\n",
       "if_people_are_eating_the_cake_please_choose_their_age_                   48\n",
       "if_people_are_eating_the_cake_please_choose_their_age_:confidence        48\n",
       "who_is_eating_or_is_likely_to_eat_the_cake                                0\n",
       "who_is_eating_or_is_likely_to_eat_the_cake:confidence                     0\n",
       "image_url                                                                 0\n",
       "dtype: int64"
      ]
     },
     "execution_count": 15,
     "metadata": {},
     "output_type": "execute_result"
    }
   ],
   "source": [
    "df.shape\n",
    "\n",
    "\n",
    "# Next, let's check for missing values.\n",
    "df.isnull().sum()"
   ]
  },
  {
   "cell_type": "markdown",
   "metadata": {},
   "source": [
    "Next, let's check the distribution of gender of the people eating cake."
   ]
  },
  {
   "cell_type": "code",
   "execution_count": 16,
   "metadata": {},
   "outputs": [
    {
     "data": {
      "text/plain": [
       "<AxesSubplot:title={'center':'Gender distribution of people eating cake'}>"
      ]
     },
     "execution_count": 16,
     "metadata": {},
     "output_type": "execute_result"
    },
    {
     "data": {
      "image/png": "[encoded data removed]",
      "text/plain": [
       "<Figure size 432x288 with 1 Axes>"
      ]
     },
     "metadata": {
      "needs_background": "light"
     },
     "output_type": "display_data"
    }
   ],
   "source": [
    "df['if__people_are_eating_the_cake_please_choose_their_gender_'].value_counts().plot(kind = 'bar'\n",
    ", title = 'Gender distribution of people eating cake')"
   ]
  },
  {
   "cell_type": "markdown",
   "metadata": {},
   "source": [
    "The bar plot shows the distribution of gender of the people eating cake. As we can see, most of the people eating cake are female.\n",
    "\n",
    "Next, let's check the distribution of age of the people eating cake."
   ]
  },
  {
   "cell_type": "code",
   "execution_count": 17,
   "metadata": {},
   "outputs": [
    {
     "data": {
      "text/plain": [
       "<AxesSubplot:title={'center':'Age distribution of people eating cake'}>"
      ]
     },
     "execution_count": 17,
     "metadata": {},
     "output_type": "execute_result"
    },
    {
     "data": {
      "image/png": "[encoded data removed]",
      "text/plain": [
       "<Figure size 432x288 with 1 Axes>"
      ]
     },
     "metadata": {
      "needs_background": "light"
     },
     "output_type": "display_data"
    }
   ],
   "source": [
    "df['if_people_are_eating_the_cake_please_choose_their_age_'].value_counts().plot(kind = 'bar', title = 'Age distribution of people eating cake')"
   ]
  },
  {
   "cell_type": "markdown",
   "metadata": {},
   "source": [
    "The bar plot shows the distribution of age of the people eating cake. As we can see, most of the people eating cake are adults or teenagers."
   ]
  },
  {
   "cell_type": "markdown",
   "metadata": {},
   "source": [
    "# Conclusion\n",
    "In this notebook, we have explored the People and Food dataset. We have loaded the dataset into a pandas dataframe and explored the data to gain insights. We have also checked for missing values and plotted the distribution of gender and age of the people eating cake. The dataset is clean and ready for further analysis."
   ]
  },
  {
   "cell_type": "code",
   "execution_count": null,
   "metadata": {},
   "outputs": [],
   "source": []
  }
 ],
 "metadata": {
  "kernelspec": {
   "display_name": "Python 3",
   "language": "python",
   "name": "python3"
  },
  "language_info": {
   "codemirror_mode": {
    "name": "ipython",
    "version": 3
   },
   "file_extension": ".py",
   "mimetype": "text/x-python",
   "name": "python",
   "nbconvert_exporter": "python",
   "pygments_lexer": "ipython3",
   "version": "3.8.5"
  }
 },
 "nbformat": 4,
 "nbformat_minor": 4
}
